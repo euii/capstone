{
 "cells": [
  {
   "cell_type": "markdown",
   "metadata": {},
   "source": [
    "# 猫狗大战毕业项目"
   ]
  },
  {
   "cell_type": "markdown",
   "metadata": {},
   "source": [
    "数据集\n",
    "[Dogs vs. Cats Redux: Kernels Edition](https://www.kaggle.com/c/dogs-vs-cats-redux-kernels-edition/data)"
   ]
  },
  {
   "cell_type": "markdown",
   "metadata": {},
   "source": [
    "### 1. 数据预处理\n",
    "#### 1.1 利用keras的`ImageDataGenerator` 函数进行统一的预处理，生成批次的带实时数据增益的张量图像数据, `ImageDataGenerator` 需要将不同类别的图片分类后放置到相同的目录内；这里准备使用创建文件软链接的方式来分类文件"
   ]
  },
  {
   "cell_type": "code",
   "execution_count": 1,
   "metadata": {},
   "outputs": [],
   "source": [
    "from tqdm import tqdm      # a nice pretty percentage bar for tasks.\n",
    "import os\n",
    "import shutil\n",
    "\n",
    "CUR_PATH = os.getcwd()\n",
    "ORG_TRAIN_DIR = CUR_PATH +'/all/train/'\n",
    "ORG_TEST_DIR = CUR_PATH + '/all/test/'\n",
    "TRAIN_DIR = CUR_PATH + \"/input/train\"\n",
    "TRAIN_CAT_DIR = TRAIN_DIR + \"/cat/\"\n",
    "TRAIN_DOG_DIR = TRAIN_DIR + \"/dog/\"\n",
    "TEST_DIR = CUR_PATH + \"/input/test\"\n",
    "LR = 1e-3\n",
    "\n",
    "def sort_img(dir_path):\n",
    "    '''判断图片是猫还是狗'''\n",
    "    train_filenames = os.listdir(dir_path)\n",
    "#     print(train_filenames)\n",
    "    train_cat = list(filter(lambda x:x.split('.')[0] == 'cat', train_filenames))\n",
    "    train_dog = list(filter(lambda x:x.split('.')[0] == 'dog', train_filenames))\n",
    "    return train_cat , train_dog\n",
    "\n",
    "def create_dir(dir_path):\n",
    "    '''建立指定的目录'''\n",
    "    remove_dir(dir_path)\n",
    "    cmd = \"mkdir -p \" + dir_path\n",
    "    os.system(cmd)\n",
    "\n",
    "def remove_dir(dir_path):\n",
    "    cmd = \"rm -rf \" + dir_path\n",
    "    os.system(cmd)\n",
    "\n",
    "def create_symlink(ori_path,tar_apth):\n",
    "    cmd = \"ln -s \" + ori_path + ' ' + tar_apth\n",
    "    os.system(cmd)\n",
    "\n",
    "def process_train_data(data_list, org_path, tar_path):\n",
    "    '''建立分猫狗分类目录及软链接'''\n",
    "    create_dir(tar_path)\n",
    "    \n",
    "    for img in tqdm(data_list):\n",
    "        create_symlink(org_path + img,tar_path + img)"
   ]
  },
  {
   "cell_type": "code",
   "execution_count": 2,
   "metadata": {},
   "outputs": [],
   "source": [
    "cat, dog = sort_img(ORG_TRAIN_DIR) #分别建立猫狗数据"
   ]
  },
  {
   "cell_type": "code",
   "execution_count": 4,
   "metadata": {},
   "outputs": [],
   "source": [
    "process_train_data(cat,ORG_TRAIN_DIR,TRAIN_CAT_DIR) \n",
    "process_train_data(dog,ORG_TRAIN_DIR,TRAIN_DOG_DIR)\n",
    "\n",
    "create_dir(TEST_DIR)\n",
    "create_symlink(ORG_TEST_DIR,TEST_DIR)"
   ]
  },
  {
   "cell_type": "markdown",
   "metadata": {},
   "source": [
    "#### 1.2 数据探索"
   ]
  },
  {
   "cell_type": "code",
   "execution_count": 7,
   "metadata": {},
   "outputs": [
    {
     "data": {
      "image/png": "[encoded data removed]",
      "text/plain": [
       "<Figure size 432x288 with 1 Axes>"
      ]
     },
     "metadata": {},
     "output_type": "display_data"
    }
   ],
   "source": [
    "import numpy as np\n",
    "import matplotlib.pyplot as plt\n",
    "\n",
    "x =np.array([len(cat),len(dog)])\n",
    "plt.bar(['cat','dog'],[x[0],x[1]])\n",
    "plt.xlabel('category')\n",
    "plt.ylabel('pic count')\n",
    "plt.title('train data pic counts')\n",
    "plt.show()"
   ]
  },
  {
   "cell_type": "code",
   "execution_count": null,
   "metadata": {},
   "outputs": [],
   "source": [
    "import random\n",
    "import cv2\n",
    "\n",
    "random.seed(2018)\n",
    "#查看图片内容\n",
    "fig,ax = plt.subplots(4,4,sharex='col',sharey='row',figsize=(12,12))\n",
    "train_filenames = os.listdir(ORG_TRAIN_DIR)\n",
    "#随机获取图片\n",
    "for i in range(4):\n",
    "    for j in range(4):\n",
    "        ran = random.randint(0,len(train_filenames))\n",
    "        img = cv2.imread(ORG_TRAIN_DIR + train_filenames[ran])\n",
    "        img = cv2.resize(img, (500,500))\n",
    "        ax[i,j].set_title('%s'% train_filenames[ran])\n",
    "        ax[i,j].imshow(img)"
   ]
  },
  {
   "cell_type": "markdown",
   "metadata": {},
   "source": [
    "### 2 导出特征向量"
   ]
  },
  {
   "cell_type": "markdown",
   "metadata": {},
   "source": [
    "keras的提供了可选的模型\n",
    "\n",
    "模型|\t大小|\tTop-1 准确率\t|Top-5准确率|\t参数数量|\t深度\n",
    "----|---|---|---|---|---\n",
    "Xception\t|88 MB\t|0.790\t|0.945|\t22,910,480\t|126\n",
    "VGG16\t|528 MB\t|0.715\t|0.901\t|138,357,544\t|23\n",
    "VGG19\t|549 MB\t|0.727|\t0.910\t|143,667,240\t|26\n",
    "ResNet50|\t99 MB\t|0.759\t|0.929\t|25,636,712|168\n",
    "InceptionV3\t|92 MB|\t0.788|\t0.944\t|23,851,784|\t159\n",
    "InceptionResNetV2|\t215 MB\t|0.804\t|0.953\t|55,873,736|\t572\n",
    "MobileNet\t|17 MB|\t0.665|\t0.871|\t4,253,864\t|88\n",
    "DenseNet121\t|33 MB\t|0.745|\t0.918\t|8,062,504\t|121\n",
    "DenseNet169\t|57 MB|\t0.759\t|0.928|\t14,307,880\t|169\n",
    "DenseNet201\t|80 MB|\t0.770|\t0.933\t|20,242,984\t|201\n",
    "\n",
    "这里只使用 InceptionV3、ResNet50 和 Xception 这三个模型。"
   ]
  },
  {
   "cell_type": "code",
   "execution_count": 2,
   "metadata": {},
   "outputs": [
    {
     "ename": "NameError",
     "evalue": "name 'TRAIN_DIR' is not defined",
     "output_type": "error",
     "traceback": [
      "\u001b[0;31m---------------------------------------------------------------------------\u001b[0m",
      "\u001b[0;31mNameError\u001b[0m                                 Traceback (most recent call last)",
      "\u001b[0;32m<ipython-input-2-8f54028fa92f>\u001b[0m in \u001b[0;36m<module>\u001b[0;34m()\u001b[0m\n\u001b[1;32m     35\u001b[0m \u001b[0;34m\u001b[0m\u001b[0m\n\u001b[1;32m     36\u001b[0m \u001b[0;31m# write_gap(ResNet50, (224, 224))\u001b[0m\u001b[0;34m\u001b[0m\u001b[0;34m\u001b[0m\u001b[0m\n\u001b[0;32m---> 37\u001b[0;31m \u001b[0mwrite_gap\u001b[0m\u001b[0;34m(\u001b[0m\u001b[0mInceptionV3\u001b[0m\u001b[0;34m,\u001b[0m \u001b[0;34m(\u001b[0m\u001b[0;36m299\u001b[0m\u001b[0;34m,\u001b[0m \u001b[0;36m299\u001b[0m\u001b[0;34m)\u001b[0m\u001b[0;34m,\u001b[0m \u001b[0minception_v3\u001b[0m\u001b[0;34m.\u001b[0m\u001b[0mpreprocess_input\u001b[0m\u001b[0;34m)\u001b[0m\u001b[0;34m\u001b[0m\u001b[0m\n\u001b[0m\u001b[1;32m     38\u001b[0m \u001b[0mwrite_gap\u001b[0m\u001b[0;34m(\u001b[0m\u001b[0mXception\u001b[0m\u001b[0;34m,\u001b[0m \u001b[0;34m(\u001b[0m\u001b[0;36m299\u001b[0m\u001b[0;34m,\u001b[0m \u001b[0;36m299\u001b[0m\u001b[0;34m)\u001b[0m\u001b[0;34m,\u001b[0m \u001b[0mxception\u001b[0m\u001b[0;34m.\u001b[0m\u001b[0mpreprocess_input\u001b[0m\u001b[0;34m)\u001b[0m\u001b[0;34m\u001b[0m\u001b[0m\n",
      "\u001b[0;32m<ipython-input-2-8f54028fa92f>\u001b[0m in \u001b[0;36mwrite_gap\u001b[0;34m(MODEL, image_size, lambda_func)\u001b[0m\n\u001b[1;32m     16\u001b[0m \u001b[0;34m\u001b[0m\u001b[0m\n\u001b[1;32m     17\u001b[0m     \u001b[0mgen\u001b[0m \u001b[0;34m=\u001b[0m \u001b[0mImageDataGenerator\u001b[0m\u001b[0;34m(\u001b[0m\u001b[0;34m)\u001b[0m\u001b[0;34m\u001b[0m\u001b[0m\n\u001b[0;32m---> 18\u001b[0;31m     train_generator = gen.flow_from_directory(TRAIN_DIR, image_size, shuffle=False, \n\u001b[0m\u001b[1;32m     19\u001b[0m                                               batch_size=16)\n\u001b[1;32m     20\u001b[0m     test_generator = gen.flow_from_directory(TEST_DIR, image_size, shuffle=False, \n",
      "\u001b[0;31mNameError\u001b[0m: name 'TRAIN_DIR' is not defined"
     ]
    }
   ],
   "source": [
    "from keras.models import *\n",
    "from keras.layers import *\n",
    "from keras.applications import *\n",
    "from keras.preprocessing.image import *\n",
    "\n",
    "import h5py\n",
    "\n",
    "def write_gap(MODEL, image_size, lambda_func=None):\n",
    "   \n",
    "    width = image_size[0]\n",
    "    height = image_size[1]\n",
    "    input_tensor = Input((height, width, 3))\n",
    "    x = input_tensor\n",
    "    if lambda_func:\n",
    "        x = Lambda(lambda_func)(x)\n",
    "    \n",
    "    gen = ImageDataGenerator()\n",
    "    train_generator = gen.flow_from_directory(TRAIN_DIR, image_size, shuffle=False, \n",
    "                                              batch_size=16)\n",
    "    test_generator = gen.flow_from_directory(TEST_DIR, image_size, shuffle=False, \n",
    "                                             batch_size=16, class_mode=None)\n",
    "    \n",
    "    base_model = MODEL(input_tensor=x, weights='imagenet', include_top=False)\n",
    "    model = Model(base_model.input, GlobalAveragePooling2D()(base_model.output))\n",
    "    model.summary()\n",
    "    print(MODEL.func_name)\n",
    "    return\n",
    "\n",
    "    train = model.predict_generator(train_generator, train_generator.samples)\n",
    "    test = model.predict_generator(test_generator, test_generator.samples)\n",
    "    with h5py.File(\"gap_%s.h5\"%MODEL.func_name) as h:\n",
    "        h.create_dataset(\"train\", data=train)\n",
    "        h.create_dataset(\"test\", data=test)\n",
    "        h.create_dataset(\"label\", data=train_generator.classes)\n",
    "\n",
    "# write_gap(ResNet50, (224, 224))\n",
    "write_gap(InceptionV3, (299, 299), inception_v3.preprocess_input)\n",
    "write_gap(Xception, (299, 299), xception.preprocess_input)\n"
   ]
  },
  {
   "cell_type": "code",
   "execution_count": null,
   "metadata": {},
   "outputs": [],
   "source": []
  },
  {
   "cell_type": "code",
   "execution_count": null,
   "metadata": {},
   "outputs": [],
   "source": []
  },
  {
   "cell_type": "code",
   "execution_count": null,
   "metadata": {},
   "outputs": [],
   "source": []
  }
 ],
 "metadata": {
  "kernelspec": {
   "display_name": "Python 3",
   "language": "python",
   "name": "python3"
  },
  "language_info": {
   "codemirror_mode": {
    "name": "ipython",
    "version": 3
   },
   "file_extension": ".py",
   "mimetype": "text/x-python",
   "name": "python",
   "nbconvert_exporter": "python",
   "pygments_lexer": "ipython3",
   "version": "3.6.6"
  }
 },
 "nbformat": 4,
 "nbformat_minor": 2
}
